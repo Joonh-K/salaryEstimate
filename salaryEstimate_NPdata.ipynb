{
 "cells": [
  {
   "cell_type": "code",
   "execution_count": 7,
   "metadata": {},
   "outputs": [],
   "source": [
    "import pandas as pd\n",
    "import numpy as np\n",
    "import matplotlib.pyplot as plt\n",
    "import seaborn as sns\n",
    "import warnings\n",
    "\n",
    "warnings.filterwarnings('ignore')\n",
    "plt.rc('font', family='NanumBarunGothic') \n",
    "plt.rcParams['figure.figsize'] = (10, 7)\n",
    "\n",
    "pd.set_option('display.float_format', lambda x: '%.2f' % x)"
   ]
  },
  {
   "cell_type": "code",
   "execution_count": 16,
   "metadata": {
    "scrolled": true
   },
   "outputs": [
    {
     "data": {
      "text/html": [
       "<div>\n",
       "<style scoped>\n",
       "    .dataframe tbody tr th:only-of-type {\n",
       "        vertical-align: middle;\n",
       "    }\n",
       "\n",
       "    .dataframe tbody tr th {\n",
       "        vertical-align: top;\n",
       "    }\n",
       "\n",
       "    .dataframe thead th {\n",
       "        text-align: right;\n",
       "    }\n",
       "</style>\n",
       "<table border=\"1\" class=\"dataframe\">\n",
       "  <thead>\n",
       "    <tr style=\"text-align: right;\">\n",
       "      <th></th>\n",
       "      <th>자료생성년월(자격마감일(사유발생일이 속하는 달의 다음달 15일)까지 신고분 반영)</th>\n",
       "      <th>사업장명</th>\n",
       "      <th>사업자등록번호</th>\n",
       "      <th>사업장가입상태코드 1:등록2:탈퇴</th>\n",
       "      <th>우편번호</th>\n",
       "      <th>사업장지번상세주소</th>\n",
       "      <th>사업장도로명상세주소</th>\n",
       "      <th>고객법정동주소코드</th>\n",
       "      <th>고객행정동주소코드</th>\n",
       "      <th>법정동주소광역시도코드</th>\n",
       "      <th>...</th>\n",
       "      <th>사업장형태구분코드 1:법인2:개인</th>\n",
       "      <th>사업장업종코드</th>\n",
       "      <th>사업장업종코드명</th>\n",
       "      <th>적용일자</th>\n",
       "      <th>재등록일자</th>\n",
       "      <th>탈퇴일자</th>\n",
       "      <th>가입자수(고지인원 수 포함)</th>\n",
       "      <th>당월고지금액(※ 국민연금법 시행령 제5조에 의거 기준소득월액 상한액 적용으로 실제소득과 고지금액은 상이할 수 있음 : 상한액 2019.7.~2020.6. 4860000원(2019.7.1.기준) 상한액 2020.7.~2021.6. 5030000원(2020.7.1.기준))</th>\n",
       "      <th>신규취득자수(납부재개 포함 : ※ 전달 고지대상자와 비교하므로 실제 취득자와 상이할 수 있음(초일취득 고지 초일이 아닌경우. 미고지(다음달 취득자수에 반영))</th>\n",
       "      <th>상실가입자수(납부예외 포함 : ※ 전달 고지대상자와 비교하므로 실제 퇴사자와 상이할 수 있음(초일이 아닌 상실자는 다음달 상실자수에 반영) 국민연금법 제6조 8조 동법 시행령 제18조에 의거 60세 도달하거나 퇴직연금수급자 조기노령연금 수급권을 취득한 자는 가입대상에서 제외되며 18세미만 기초수급자는 본인희망에 의해 제외될 수 있음)</th>\n",
       "    </tr>\n",
       "  </thead>\n",
       "  <tbody>\n",
       "    <tr>\n",
       "      <th>0</th>\n",
       "      <td>Sep-20</td>\n",
       "      <td>우성기전(주)</td>\n",
       "      <td>126811</td>\n",
       "      <td>1</td>\n",
       "      <td>12816</td>\n",
       "      <td>경기도 광주시 도척면</td>\n",
       "      <td>경기도 광주시 도척면 도척윗로</td>\n",
       "      <td>4161033025</td>\n",
       "      <td>4161033025</td>\n",
       "      <td>41</td>\n",
       "      <td>...</td>\n",
       "      <td>1</td>\n",
       "      <td>292201</td>\n",
       "      <td>동력식 수지 공구 제조업</td>\n",
       "      <td>1988-01-01</td>\n",
       "      <td>NaN</td>\n",
       "      <td>NaN</td>\n",
       "      <td>5</td>\n",
       "      <td>792720</td>\n",
       "      <td>0</td>\n",
       "      <td>0</td>\n",
       "    </tr>\n",
       "    <tr>\n",
       "      <th>1</th>\n",
       "      <td>Sep-20</td>\n",
       "      <td>서능공원묘지운영회(재)</td>\n",
       "      <td>102820</td>\n",
       "      <td>1</td>\n",
       "      <td>11191</td>\n",
       "      <td>경기도 포천시 내촌면</td>\n",
       "      <td></td>\n",
       "      <td>4165032022</td>\n",
       "      <td>4165032022</td>\n",
       "      <td>41</td>\n",
       "      <td>...</td>\n",
       "      <td>1</td>\n",
       "      <td>701700</td>\n",
       "      <td>화장터 운영  묘지 분양 및 관리업</td>\n",
       "      <td>1988-01-01</td>\n",
       "      <td>NaN</td>\n",
       "      <td>NaN</td>\n",
       "      <td>14</td>\n",
       "      <td>3566460</td>\n",
       "      <td>1</td>\n",
       "      <td>0</td>\n",
       "    </tr>\n",
       "    <tr>\n",
       "      <th>2</th>\n",
       "      <td>Sep-20</td>\n",
       "      <td>노들새마을금고</td>\n",
       "      <td>108820</td>\n",
       "      <td>1</td>\n",
       "      <td>6923</td>\n",
       "      <td>서울특별시 동작구 노량진동</td>\n",
       "      <td>서울특별시 동작구 만양로</td>\n",
       "      <td>1159010100</td>\n",
       "      <td>1159051000</td>\n",
       "      <td>11</td>\n",
       "      <td>...</td>\n",
       "      <td>1</td>\n",
       "      <td>659202</td>\n",
       "      <td>신용조합</td>\n",
       "      <td>1988-01-01</td>\n",
       "      <td>NaN</td>\n",
       "      <td>NaN</td>\n",
       "      <td>13</td>\n",
       "      <td>4408620</td>\n",
       "      <td>0</td>\n",
       "      <td>0</td>\n",
       "    </tr>\n",
       "    <tr>\n",
       "      <th>3</th>\n",
       "      <td>Sep-20</td>\n",
       "      <td>유창성업(주)</td>\n",
       "      <td>122812</td>\n",
       "      <td>1</td>\n",
       "      <td>22849</td>\n",
       "      <td>인천광역시 서구 오류동</td>\n",
       "      <td>인천광역시 서구 갑문2로</td>\n",
       "      <td>2826011900</td>\n",
       "      <td>2826072000</td>\n",
       "      <td>28</td>\n",
       "      <td>...</td>\n",
       "      <td>1</td>\n",
       "      <td>749604</td>\n",
       "      <td>그 외 기타 분류 안된 사업 지원 서비스업(기타임가공</td>\n",
       "      <td>1988-01-01</td>\n",
       "      <td>NaN</td>\n",
       "      <td>NaN</td>\n",
       "      <td>28</td>\n",
       "      <td>5575460</td>\n",
       "      <td>0</td>\n",
       "      <td>1</td>\n",
       "    </tr>\n",
       "    <tr>\n",
       "      <th>4</th>\n",
       "      <td>Sep-20</td>\n",
       "      <td>희성전자(주)</td>\n",
       "      <td>106810</td>\n",
       "      <td>1</td>\n",
       "      <td>4410</td>\n",
       "      <td>서울특별시 용산구 한남동</td>\n",
       "      <td>서울특별시 용산구 독서당로14길</td>\n",
       "      <td>1117013100</td>\n",
       "      <td>1117067000</td>\n",
       "      <td>11</td>\n",
       "      <td>...</td>\n",
       "      <td>1</td>\n",
       "      <td>701201</td>\n",
       "      <td>비주거용 건물 임대업(점포  자기땅)</td>\n",
       "      <td>1988-01-01</td>\n",
       "      <td>NaN</td>\n",
       "      <td>NaN</td>\n",
       "      <td>491</td>\n",
       "      <td>207015760</td>\n",
       "      <td>0</td>\n",
       "      <td>7</td>\n",
       "    </tr>\n",
       "  </tbody>\n",
       "</table>\n",
       "<p>5 rows × 22 columns</p>\n",
       "</div>"
      ],
      "text/plain": [
       "  자료생성년월(자격마감일(사유발생일이 속하는 달의 다음달 15일)까지 신고분 반영)          사업장명   사업자등록번호  \\\n",
       "0                                        Sep-20       우성기전(주)    126811   \n",
       "1                                        Sep-20  서능공원묘지운영회(재)    102820   \n",
       "2                                        Sep-20       노들새마을금고    108820   \n",
       "3                                        Sep-20       유창성업(주)    122812   \n",
       "4                                        Sep-20       희성전자(주)    106810   \n",
       "\n",
       "    사업장가입상태코드 1:등록2:탈퇴   우편번호       사업장지번상세주소         사업장도로명상세주소   고객법정동주소코드  \\\n",
       "0                    1  12816     경기도 광주시 도척면   경기도 광주시 도척면 도척윗로  4161033025   \n",
       "1                    1  11191     경기도 포천시 내촌면                     4165032022   \n",
       "2                    1   6923  서울특별시 동작구 노량진동      서울특별시 동작구 만양로  1159010100   \n",
       "3                    1  22849    인천광역시 서구 오류동      인천광역시 서구 갑문2로  2826011900   \n",
       "4                    1   4410   서울특별시 용산구 한남동  서울특별시 용산구 독서당로14길  1117013100   \n",
       "\n",
       "    고객행정동주소코드   법정동주소광역시도코드  ...   사업장형태구분코드 1:법인2:개인   사업장업종코드  \\\n",
       "0  4161033025            41  ...                    1    292201   \n",
       "1  4165032022            41  ...                    1    701700   \n",
       "2  1159051000            11  ...                    1    659202   \n",
       "3  2826072000            28  ...                    1    749604   \n",
       "4  1117067000            11  ...                    1    701201   \n",
       "\n",
       "                        사업장업종코드명        적용일자  재등록일자  탈퇴일자  가입자수(고지인원 수 포함)  \\\n",
       "0                  동력식 수지 공구 제조업  1988-01-01    NaN   NaN                5   \n",
       "1            화장터 운영  묘지 분양 및 관리업  1988-01-01    NaN   NaN               14   \n",
       "2                           신용조합  1988-01-01    NaN   NaN               13   \n",
       "3  그 외 기타 분류 안된 사업 지원 서비스업(기타임가공  1988-01-01    NaN   NaN               28   \n",
       "4           비주거용 건물 임대업(점포  자기땅)  1988-01-01    NaN   NaN              491   \n",
       "\n",
       "   당월고지금액(※ 국민연금법 시행령 제5조에 의거 기준소득월액 상한액 적용으로 실제소득과 고지금액은 상이할 수 있음 : 상한액 2019.7.~2020.6. 4860000원(2019.7.1.기준) 상한액 2020.7.~2021.6. 5030000원(2020.7.1.기준))  \\\n",
       "0                                             792720                                                                                                        \n",
       "1                                            3566460                                                                                                        \n",
       "2                                            4408620                                                                                                        \n",
       "3                                            5575460                                                                                                        \n",
       "4                                          207015760                                                                                                        \n",
       "\n",
       "    신규취득자수(납부재개 포함 : ※ 전달 고지대상자와 비교하므로 실제 취득자와 상이할 수 있음(초일취득 고지 초일이 아닌경우. 미고지(다음달 취득자수에 반영))  \\\n",
       "0                                                  0                                           \n",
       "1                                                  1                                           \n",
       "2                                                  0                                           \n",
       "3                                                  0                                           \n",
       "4                                                  0                                           \n",
       "\n",
       "    상실가입자수(납부예외 포함 : ※ 전달 고지대상자와 비교하므로 실제 퇴사자와 상이할 수 있음(초일이 아닌 상실자는 다음달 상실자수에 반영) 국민연금법 제6조 8조 동법 시행령 제18조에 의거 60세 도달하거나 퇴직연금수급자 조기노령연금 수급권을 취득한 자는 가입대상에서 제외되며 18세미만 기초수급자는 본인희망에 의해 제외될 수 있음)  \n",
       "0                                                  0                                                                                                                                             \n",
       "1                                                  0                                                                                                                                             \n",
       "2                                                  0                                                                                                                                             \n",
       "3                                                  1                                                                                                                                             \n",
       "4                                                  7                                                                                                                                             \n",
       "\n",
       "[5 rows x 22 columns]"
      ]
     },
     "execution_count": 16,
     "metadata": {},
     "output_type": "execute_result"
    }
   ],
   "source": [
    "# allow to see the output on the current browser\n",
    "%matplotlib inline \n",
    "\n",
    "# before read file with pd.read_csv, NPS file should be saved as 'CSV utf-8' format in excel window\n",
    "df = pd.read_csv(\"data/NPS_National_Pension_subscriber_details_20201023_utf8.csv\")\n",
    "\n",
    "# df.head()"
   ]
  },
  {
   "cell_type": "code",
   "execution_count": 19,
   "metadata": {},
   "outputs": [
    {
     "data": {
      "text/plain": [
       "Index(['자료생성년월(자격마감일(사유발생일이 속하는 달의 다음달 15일)까지 신고분 반영)', ' 사업장명', ' 사업자등록번호',\n",
       "       ' 사업장가입상태코드 1:등록2:탈퇴', ' 우편번호', ' 사업장지번상세주소', ' 사업장도로명상세주소',\n",
       "       ' 고객법정동주소코드', ' 고객행정동주소코드', ' 법정동주소광역시도코드', ' 법정동주소광역시시군구코드',\n",
       "       ' 법정동주소광역시시군구읍면동코드', ' 사업장형태구분코드 1:법인2:개인', ' 사업장업종코드', ' 사업장업종코드명',\n",
       "       ' 적용일자', ' 재등록일자', ' 탈퇴일자', ' 가입자수(고지인원 수 포함)',\n",
       "       ' 당월고지금액(※ 국민연금법 시행령 제5조에 의거 기준소득월액 상한액 적용으로 실제소득과 고지금액은 상이할 수 있음 : 상한액 2019.7.~2020.6. 4860000원(2019.7.1.기준) 상한액 2020.7.~2021.6. 5030000원(2020.7.1.기준))',\n",
       "       ' 신규취득자수(납부재개 포함 : ※ 전달 고지대상자와 비교하므로 실제 취득자와 상이할 수 있음(초일취득 고지 초일이 아닌경우. 미고지(다음달 취득자수에 반영))',\n",
       "       ' 상실가입자수(납부예외 포함 : ※ 전달 고지대상자와 비교하므로 실제 퇴사자와 상이할 수 있음(초일이 아닌 상실자는 다음달 상실자수에 반영) 국민연금법 제6조 8조 동법 시행령 제18조에 의거 60세 도달하거나 퇴직연금수급자 조기노령연금 수급권을 취득한 자는 가입대상에서 제외되며 18세미만 기초수급자는 본인희망에 의해 제외될 수 있음)'],\n",
       "      dtype='object')"
      ]
     },
     "execution_count": 19,
     "metadata": {},
     "output_type": "execute_result"
    }
   ],
   "source": [
    "df.columns"
   ]
  },
  {
   "cell_type": "code",
   "execution_count": 25,
   "metadata": {},
   "outputs": [],
   "source": [
    "columns = ['자료생성년월', '사업장명', '사업자번호', '가입상태', '우편번호', '지번주소', '도로명주소', '법정주소코드', \n",
    "           '행정주소코드', '광역시코드', '시군구코드', '읍면동코드', '사업장형태', '업종코드', '업종코드명', \n",
    "           '적용일', '재등록일', '탈퇴일', '가입자수', '고지금액', '신규', '상실',\n",
    "          ]"
   ]
  },
  {
   "cell_type": "code",
   "execution_count": 26,
   "metadata": {},
   "outputs": [
    {
     "data": {
      "text/plain": [
       "22"
      ]
     },
     "execution_count": 26,
     "metadata": {},
     "output_type": "execute_result"
    }
   ],
   "source": [
    "len(df.columns)"
   ]
  },
  {
   "cell_type": "code",
   "execution_count": 27,
   "metadata": {},
   "outputs": [
    {
     "data": {
      "text/plain": [
       "22"
      ]
     },
     "execution_count": 27,
     "metadata": {},
     "output_type": "execute_result"
    }
   ],
   "source": [
    "len(columns)"
   ]
  },
  {
   "cell_type": "code",
   "execution_count": 29,
   "metadata": {},
   "outputs": [
    {
     "data": {
      "text/html": [
       "<div>\n",
       "<style scoped>\n",
       "    .dataframe tbody tr th:only-of-type {\n",
       "        vertical-align: middle;\n",
       "    }\n",
       "\n",
       "    .dataframe tbody tr th {\n",
       "        vertical-align: top;\n",
       "    }\n",
       "\n",
       "    .dataframe thead th {\n",
       "        text-align: right;\n",
       "    }\n",
       "</style>\n",
       "<table border=\"1\" class=\"dataframe\">\n",
       "  <thead>\n",
       "    <tr style=\"text-align: right;\">\n",
       "      <th></th>\n",
       "      <th>자료생성년월</th>\n",
       "      <th>사업장명</th>\n",
       "      <th>사업자번호</th>\n",
       "      <th>가입상태</th>\n",
       "      <th>우편번호</th>\n",
       "      <th>지번주소</th>\n",
       "      <th>도로명주소</th>\n",
       "      <th>법정주소코드</th>\n",
       "      <th>행정주소코드</th>\n",
       "      <th>광역시코드</th>\n",
       "      <th>...</th>\n",
       "      <th>사업장형태</th>\n",
       "      <th>업종코드</th>\n",
       "      <th>업종코드명</th>\n",
       "      <th>적용일</th>\n",
       "      <th>재등록일</th>\n",
       "      <th>탈퇴일</th>\n",
       "      <th>가입자수</th>\n",
       "      <th>고지금액</th>\n",
       "      <th>신규</th>\n",
       "      <th>상실</th>\n",
       "    </tr>\n",
       "  </thead>\n",
       "  <tbody>\n",
       "    <tr>\n",
       "      <th>0</th>\n",
       "      <td>Sep-20</td>\n",
       "      <td>우성기전(주)</td>\n",
       "      <td>126811</td>\n",
       "      <td>1</td>\n",
       "      <td>12816</td>\n",
       "      <td>경기도 광주시 도척면</td>\n",
       "      <td>경기도 광주시 도척면 도척윗로</td>\n",
       "      <td>4161033025</td>\n",
       "      <td>4161033025</td>\n",
       "      <td>41</td>\n",
       "      <td>...</td>\n",
       "      <td>1</td>\n",
       "      <td>292201</td>\n",
       "      <td>동력식 수지 공구 제조업</td>\n",
       "      <td>1988-01-01</td>\n",
       "      <td>NaN</td>\n",
       "      <td>NaN</td>\n",
       "      <td>5</td>\n",
       "      <td>792720</td>\n",
       "      <td>0</td>\n",
       "      <td>0</td>\n",
       "    </tr>\n",
       "    <tr>\n",
       "      <th>1</th>\n",
       "      <td>Sep-20</td>\n",
       "      <td>서능공원묘지운영회(재)</td>\n",
       "      <td>102820</td>\n",
       "      <td>1</td>\n",
       "      <td>11191</td>\n",
       "      <td>경기도 포천시 내촌면</td>\n",
       "      <td></td>\n",
       "      <td>4165032022</td>\n",
       "      <td>4165032022</td>\n",
       "      <td>41</td>\n",
       "      <td>...</td>\n",
       "      <td>1</td>\n",
       "      <td>701700</td>\n",
       "      <td>화장터 운영  묘지 분양 및 관리업</td>\n",
       "      <td>1988-01-01</td>\n",
       "      <td>NaN</td>\n",
       "      <td>NaN</td>\n",
       "      <td>14</td>\n",
       "      <td>3566460</td>\n",
       "      <td>1</td>\n",
       "      <td>0</td>\n",
       "    </tr>\n",
       "    <tr>\n",
       "      <th>2</th>\n",
       "      <td>Sep-20</td>\n",
       "      <td>노들새마을금고</td>\n",
       "      <td>108820</td>\n",
       "      <td>1</td>\n",
       "      <td>6923</td>\n",
       "      <td>서울특별시 동작구 노량진동</td>\n",
       "      <td>서울특별시 동작구 만양로</td>\n",
       "      <td>1159010100</td>\n",
       "      <td>1159051000</td>\n",
       "      <td>11</td>\n",
       "      <td>...</td>\n",
       "      <td>1</td>\n",
       "      <td>659202</td>\n",
       "      <td>신용조합</td>\n",
       "      <td>1988-01-01</td>\n",
       "      <td>NaN</td>\n",
       "      <td>NaN</td>\n",
       "      <td>13</td>\n",
       "      <td>4408620</td>\n",
       "      <td>0</td>\n",
       "      <td>0</td>\n",
       "    </tr>\n",
       "    <tr>\n",
       "      <th>3</th>\n",
       "      <td>Sep-20</td>\n",
       "      <td>유창성업(주)</td>\n",
       "      <td>122812</td>\n",
       "      <td>1</td>\n",
       "      <td>22849</td>\n",
       "      <td>인천광역시 서구 오류동</td>\n",
       "      <td>인천광역시 서구 갑문2로</td>\n",
       "      <td>2826011900</td>\n",
       "      <td>2826072000</td>\n",
       "      <td>28</td>\n",
       "      <td>...</td>\n",
       "      <td>1</td>\n",
       "      <td>749604</td>\n",
       "      <td>그 외 기타 분류 안된 사업 지원 서비스업(기타임가공</td>\n",
       "      <td>1988-01-01</td>\n",
       "      <td>NaN</td>\n",
       "      <td>NaN</td>\n",
       "      <td>28</td>\n",
       "      <td>5575460</td>\n",
       "      <td>0</td>\n",
       "      <td>1</td>\n",
       "    </tr>\n",
       "    <tr>\n",
       "      <th>4</th>\n",
       "      <td>Sep-20</td>\n",
       "      <td>희성전자(주)</td>\n",
       "      <td>106810</td>\n",
       "      <td>1</td>\n",
       "      <td>4410</td>\n",
       "      <td>서울특별시 용산구 한남동</td>\n",
       "      <td>서울특별시 용산구 독서당로14길</td>\n",
       "      <td>1117013100</td>\n",
       "      <td>1117067000</td>\n",
       "      <td>11</td>\n",
       "      <td>...</td>\n",
       "      <td>1</td>\n",
       "      <td>701201</td>\n",
       "      <td>비주거용 건물 임대업(점포  자기땅)</td>\n",
       "      <td>1988-01-01</td>\n",
       "      <td>NaN</td>\n",
       "      <td>NaN</td>\n",
       "      <td>491</td>\n",
       "      <td>207015760</td>\n",
       "      <td>0</td>\n",
       "      <td>7</td>\n",
       "    </tr>\n",
       "  </tbody>\n",
       "</table>\n",
       "<p>5 rows × 22 columns</p>\n",
       "</div>"
      ],
      "text/plain": [
       "   자료생성년월          사업장명   사업자번호  가입상태   우편번호            지번주소  \\\n",
       "0  Sep-20       우성기전(주)  126811     1  12816     경기도 광주시 도척면   \n",
       "1  Sep-20  서능공원묘지운영회(재)  102820     1  11191     경기도 포천시 내촌면   \n",
       "2  Sep-20       노들새마을금고  108820     1   6923  서울특별시 동작구 노량진동   \n",
       "3  Sep-20       유창성업(주)  122812     1  22849    인천광역시 서구 오류동   \n",
       "4  Sep-20       희성전자(주)  106810     1   4410   서울특별시 용산구 한남동   \n",
       "\n",
       "               도로명주소      법정주소코드      행정주소코드  광역시코드  ...  사업장형태    업종코드  \\\n",
       "0   경기도 광주시 도척면 도척윗로  4161033025  4161033025     41  ...      1  292201   \n",
       "1                     4165032022  4165032022     41  ...      1  701700   \n",
       "2      서울특별시 동작구 만양로  1159010100  1159051000     11  ...      1  659202   \n",
       "3      인천광역시 서구 갑문2로  2826011900  2826072000     28  ...      1  749604   \n",
       "4  서울특별시 용산구 독서당로14길  1117013100  1117067000     11  ...      1  701201   \n",
       "\n",
       "                           업종코드명         적용일 재등록일  탈퇴일 가입자수       고지금액  신규  상실  \n",
       "0                  동력식 수지 공구 제조업  1988-01-01  NaN  NaN    5     792720   0   0  \n",
       "1            화장터 운영  묘지 분양 및 관리업  1988-01-01  NaN  NaN   14    3566460   1   0  \n",
       "2                           신용조합  1988-01-01  NaN  NaN   13    4408620   0   0  \n",
       "3  그 외 기타 분류 안된 사업 지원 서비스업(기타임가공  1988-01-01  NaN  NaN   28    5575460   0   1  \n",
       "4           비주거용 건물 임대업(점포  자기땅)  1988-01-01  NaN  NaN  491  207015760   0   7  \n",
       "\n",
       "[5 rows x 22 columns]"
      ]
     },
     "execution_count": 29,
     "metadata": {},
     "output_type": "execute_result"
    }
   ],
   "source": [
    "df.columns = columns\n",
    "df.head()"
   ]
  },
  {
   "cell_type": "code",
   "execution_count": 31,
   "metadata": {},
   "outputs": [
    {
     "data": {
      "text/html": [
       "<div>\n",
       "<style scoped>\n",
       "    .dataframe tbody tr th:only-of-type {\n",
       "        vertical-align: middle;\n",
       "    }\n",
       "\n",
       "    .dataframe tbody tr th {\n",
       "        vertical-align: top;\n",
       "    }\n",
       "\n",
       "    .dataframe thead th {\n",
       "        text-align: right;\n",
       "    }\n",
       "</style>\n",
       "<table border=\"1\" class=\"dataframe\">\n",
       "  <thead>\n",
       "    <tr style=\"text-align: right;\">\n",
       "      <th></th>\n",
       "      <th>사업장명</th>\n",
       "      <th>가입자수</th>\n",
       "      <th>신규</th>\n",
       "      <th>상실</th>\n",
       "      <th>고지금액</th>\n",
       "    </tr>\n",
       "  </thead>\n",
       "  <tbody>\n",
       "    <tr>\n",
       "      <th>0</th>\n",
       "      <td>우성기전(주)</td>\n",
       "      <td>5</td>\n",
       "      <td>0</td>\n",
       "      <td>0</td>\n",
       "      <td>792720</td>\n",
       "    </tr>\n",
       "    <tr>\n",
       "      <th>1</th>\n",
       "      <td>서능공원묘지운영회(재)</td>\n",
       "      <td>14</td>\n",
       "      <td>1</td>\n",
       "      <td>0</td>\n",
       "      <td>3566460</td>\n",
       "    </tr>\n",
       "    <tr>\n",
       "      <th>2</th>\n",
       "      <td>노들새마을금고</td>\n",
       "      <td>13</td>\n",
       "      <td>0</td>\n",
       "      <td>0</td>\n",
       "      <td>4408620</td>\n",
       "    </tr>\n",
       "    <tr>\n",
       "      <th>3</th>\n",
       "      <td>유창성업(주)</td>\n",
       "      <td>28</td>\n",
       "      <td>0</td>\n",
       "      <td>1</td>\n",
       "      <td>5575460</td>\n",
       "    </tr>\n",
       "    <tr>\n",
       "      <th>4</th>\n",
       "      <td>희성전자(주)</td>\n",
       "      <td>491</td>\n",
       "      <td>0</td>\n",
       "      <td>7</td>\n",
       "      <td>207015760</td>\n",
       "    </tr>\n",
       "  </tbody>\n",
       "</table>\n",
       "</div>"
      ],
      "text/plain": [
       "           사업장명  가입자수  신규  상실       고지금액\n",
       "0       우성기전(주)     5   0   0     792720\n",
       "1  서능공원묘지운영회(재)    14   1   0    3566460\n",
       "2       노들새마을금고    13   0   0    4408620\n",
       "3       유창성업(주)    28   0   1    5575460\n",
       "4       희성전자(주)   491   0   7  207015760"
      ]
     },
     "execution_count": 31,
     "metadata": {},
     "output_type": "execute_result"
    }
   ],
   "source": [
    "df_main = df[['사업장명', '가입자수', '신규', '상실', '고지금액']]\n",
    "df_main.head()"
   ]
  },
  {
   "cell_type": "code",
   "execution_count": 32,
   "metadata": {},
   "outputs": [
    {
     "data": {
      "text/plain": [
       "1.029088832820228"
      ]
     },
     "execution_count": 32,
     "metadata": {},
     "output_type": "execute_result"
    }
   ],
   "source": [
    "df_main['신규'].mean()"
   ]
  },
  {
   "cell_type": "code",
   "execution_count": 33,
   "metadata": {},
   "outputs": [
    {
     "data": {
      "text/plain": [
       "0.5906151863768586"
      ]
     },
     "execution_count": 33,
     "metadata": {},
     "output_type": "execute_result"
    }
   ],
   "source": [
    "df_main['상실'].mean()"
   ]
  },
  {
   "cell_type": "code",
   "execution_count": 34,
   "metadata": {},
   "outputs": [
    {
     "data": {
      "text/plain": [
       "19.7560434557842"
      ]
     },
     "execution_count": 34,
     "metadata": {},
     "output_type": "execute_result"
    }
   ],
   "source": [
    "df_main['가입자수'].mean()"
   ]
  },
  {
   "cell_type": "code",
   "execution_count": 35,
   "metadata": {},
   "outputs": [
    {
     "data": {
      "text/plain": [
       "5680702.493152165"
      ]
     },
     "execution_count": 35,
     "metadata": {},
     "output_type": "execute_result"
    }
   ],
   "source": [
    "df_main['고지금액'].mean()"
   ]
  },
  {
   "cell_type": "code",
   "execution_count": 37,
   "metadata": {},
   "outputs": [
    {
     "data": {
      "text/plain": [
       "0   158544.00\n",
       "1   254747.14\n",
       "2   339124.62\n",
       "3   199123.57\n",
       "4   421620.69\n",
       "Name: 인당고지금액, dtype: float64"
      ]
     },
     "execution_count": 37,
     "metadata": {},
     "output_type": "execute_result"
    }
   ],
   "source": [
    "df_main['인당고지금액'] = df_main['고지금액'] / df_main['가입자수']\n",
    "df['인당고지금액'] = df['고지금액'] / df['가입자수']\n",
    "df_main['인당고지금액'].head()"
   ]
  },
  {
   "cell_type": "code",
   "execution_count": 42,
   "metadata": {
    "scrolled": false
   },
   "outputs": [
    {
     "data": {
      "text/html": [
       "<div>\n",
       "<style scoped>\n",
       "    .dataframe tbody tr th:only-of-type {\n",
       "        vertical-align: middle;\n",
       "    }\n",
       "\n",
       "    .dataframe tbody tr th {\n",
       "        vertical-align: top;\n",
       "    }\n",
       "\n",
       "    .dataframe thead th {\n",
       "        text-align: right;\n",
       "    }\n",
       "</style>\n",
       "<table border=\"1\" class=\"dataframe\">\n",
       "  <thead>\n",
       "    <tr style=\"text-align: right;\">\n",
       "      <th></th>\n",
       "      <th>사업장명</th>\n",
       "      <th>가입자수</th>\n",
       "      <th>신규</th>\n",
       "      <th>상실</th>\n",
       "      <th>고지금액</th>\n",
       "      <th>인당고지금액</th>\n",
       "      <th>평균월급</th>\n",
       "      <th>평균연봉</th>\n",
       "    </tr>\n",
       "  </thead>\n",
       "  <tbody>\n",
       "    <tr>\n",
       "      <th>0</th>\n",
       "      <td>우성기전(주)</td>\n",
       "      <td>5</td>\n",
       "      <td>0</td>\n",
       "      <td>0</td>\n",
       "      <td>792720</td>\n",
       "      <td>158544.00</td>\n",
       "      <td>1761600.00</td>\n",
       "      <td>21139200.00</td>\n",
       "    </tr>\n",
       "    <tr>\n",
       "      <th>1</th>\n",
       "      <td>서능공원묘지운영회(재)</td>\n",
       "      <td>14</td>\n",
       "      <td>1</td>\n",
       "      <td>0</td>\n",
       "      <td>3566460</td>\n",
       "      <td>254747.14</td>\n",
       "      <td>2830523.81</td>\n",
       "      <td>33966285.71</td>\n",
       "    </tr>\n",
       "    <tr>\n",
       "      <th>2</th>\n",
       "      <td>노들새마을금고</td>\n",
       "      <td>13</td>\n",
       "      <td>0</td>\n",
       "      <td>0</td>\n",
       "      <td>4408620</td>\n",
       "      <td>339124.62</td>\n",
       "      <td>3768051.28</td>\n",
       "      <td>45216615.38</td>\n",
       "    </tr>\n",
       "    <tr>\n",
       "      <th>3</th>\n",
       "      <td>유창성업(주)</td>\n",
       "      <td>28</td>\n",
       "      <td>0</td>\n",
       "      <td>1</td>\n",
       "      <td>5575460</td>\n",
       "      <td>199123.57</td>\n",
       "      <td>2212484.13</td>\n",
       "      <td>26549809.52</td>\n",
       "    </tr>\n",
       "    <tr>\n",
       "      <th>4</th>\n",
       "      <td>희성전자(주)</td>\n",
       "      <td>491</td>\n",
       "      <td>0</td>\n",
       "      <td>7</td>\n",
       "      <td>207015760</td>\n",
       "      <td>421620.69</td>\n",
       "      <td>4684674.36</td>\n",
       "      <td>56216092.33</td>\n",
       "    </tr>\n",
       "  </tbody>\n",
       "</table>\n",
       "</div>"
      ],
      "text/plain": [
       "           사업장명  가입자수  신규  상실       고지금액    인당고지금액       평균월급        평균연봉\n",
       "0       우성기전(주)     5   0   0     792720 158544.00 1761600.00 21139200.00\n",
       "1  서능공원묘지운영회(재)    14   1   0    3566460 254747.14 2830523.81 33966285.71\n",
       "2       노들새마을금고    13   0   0    4408620 339124.62 3768051.28 45216615.38\n",
       "3       유창성업(주)    28   0   1    5575460 199123.57 2212484.13 26549809.52\n",
       "4       희성전자(주)   491   0   7  207015760 421620.69 4684674.36 56216092.33"
      ]
     },
     "execution_count": 42,
     "metadata": {},
     "output_type": "execute_result"
    }
   ],
   "source": [
    "# mean salary per month = NP per a person / 9%\n",
    "\n",
    "df_main['평균월급'] = df_main['인당고지금액'] / 9 * 100\n",
    "df['평균월급'] = df['인당고지금액'] / 9 * 100\n",
    "\n",
    "# mean salary per year = mean salary per month *12\n",
    "\n",
    "df_main['평균연봉'] = df_main['평균월급'] * 12\n",
    "df['평균연봉'] = df['평균월급'] * 12\n",
    "\n",
    "df_main.head()"
   ]
  },
  {
   "cell_type": "code",
   "execution_count": 44,
   "metadata": {},
   "outputs": [
    {
     "data": {
      "text/plain": [
       "495116"
      ]
     },
     "execution_count": 44,
     "metadata": {},
     "output_type": "execute_result"
    }
   ],
   "source": [
    "# Number of company mean salary per month calculated\n",
    "df_main['평균월급'].notnull().sum()"
   ]
  },
  {
   "cell_type": "code",
   "execution_count": 51,
   "metadata": {},
   "outputs": [
    {
     "data": {
      "image/png": "[encoded data removed]",
      "text/plain": [
       "<Figure size 720x504 with 1 Axes>"
      ]
     },
     "metadata": {
      "needs_background": "light"
     },
     "output_type": "display_data"
    }
   ],
   "source": [
    "plt.figure(figsize = (10,7))\n",
    "sns.distplot(df_main.loc[df_main['평균연봉'].notnull(), '평균연봉'])\n",
    "plt.title('Mean salary', fontsize=18)\n",
    "plt.show()"
   ]
  },
  {
   "cell_type": "code",
   "execution_count": 52,
   "metadata": {},
   "outputs": [
    {
     "data": {
      "image/png": "[encoded data removed]",
      "text/plain": [
       "<Figure size 720x504 with 1 Axes>"
      ]
     },
     "metadata": {
      "needs_background": "light"
     },
     "output_type": "display_data"
    }
   ],
   "source": [
    "plt.figure(figsize=(10, 7))\n",
    "sns.distplot(df_main.loc[df_main['평균월급'].notnull(), '평균월급'])\n",
    "plt.title('Mean salary per month', fontsize=18)\n",
    "plt.show()"
   ]
  }
 ],
 "metadata": {
  "kernelspec": {
   "display_name": "Python 3",
   "language": "python",
   "name": "python3"
  },
  "language_info": {
   "codemirror_mode": {
    "name": "ipython",
    "version": 3
   },
   "file_extension": ".py",
   "mimetype": "text/x-python",
   "name": "python",
   "nbconvert_exporter": "python",
   "pygments_lexer": "ipython3",
   "version": "3.7.5"
  }
 },
 "nbformat": 4,
 "nbformat_minor": 4
}
